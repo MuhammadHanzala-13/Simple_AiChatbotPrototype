{
 "cells": [
  {
   "cell_type": "code",
   "execution_count": 2,
   "id": "5fd89bee-acd5-4d8e-a338-ea114c72c653",
   "metadata": {},
   "outputs": [],
   "source": [
    "import pandas as pd\n",
    "df = pd.read_csv('finantialStatements(ms&tesla).csv')"
   ]
  },
  {
   "cell_type": "code",
   "execution_count": 3,
   "id": "2df1d277-282e-4045-a1d0-200f4156cb02",
   "metadata": {},
   "outputs": [
    {
     "data": {
      "text/html": [
       "<div>\n",
       "<style scoped>\n",
       "    .dataframe tbody tr th:only-of-type {\n",
       "        vertical-align: middle;\n",
       "    }\n",
       "\n",
       "    .dataframe tbody tr th {\n",
       "        vertical-align: top;\n",
       "    }\n",
       "\n",
       "    .dataframe thead th {\n",
       "        text-align: right;\n",
       "    }\n",
       "</style>\n",
       "<table border=\"1\" class=\"dataframe\">\n",
       "  <thead>\n",
       "    <tr style=\"text-align: right;\">\n",
       "      <th></th>\n",
       "      <th>CompanyName</th>\n",
       "      <th>Total_Revenue</th>\n",
       "      <th>Years</th>\n",
       "      <th>Net_Income</th>\n",
       "      <th>Total_assets</th>\n",
       "      <th>Total_Libilities</th>\n",
       "      <th>Cash_flow_opera</th>\n",
       "    </tr>\n",
       "  </thead>\n",
       "  <tbody>\n",
       "    <tr>\n",
       "      <th>0</th>\n",
       "      <td>Microsoft</td>\n",
       "      <td>245122</td>\n",
       "      <td>2024</td>\n",
       "      <td>88136</td>\n",
       "      <td>512163</td>\n",
       "      <td>243686</td>\n",
       "      <td>118548</td>\n",
       "    </tr>\n",
       "    <tr>\n",
       "      <th>1</th>\n",
       "      <td>Microsoft</td>\n",
       "      <td>211915</td>\n",
       "      <td>2023</td>\n",
       "      <td>72316</td>\n",
       "      <td>411976</td>\n",
       "      <td>205753</td>\n",
       "      <td>87582</td>\n",
       "    </tr>\n",
       "    <tr>\n",
       "      <th>2</th>\n",
       "      <td>Microsoft</td>\n",
       "      <td>198270</td>\n",
       "      <td>2022</td>\n",
       "      <td>72738</td>\n",
       "      <td>364840</td>\n",
       "      <td>198298</td>\n",
       "      <td>89035</td>\n",
       "    </tr>\n",
       "    <tr>\n",
       "      <th>3</th>\n",
       "      <td>Tesla</td>\n",
       "      <td>97,690</td>\n",
       "      <td>2024</td>\n",
       "      <td>7,153</td>\n",
       "      <td>122,070</td>\n",
       "      <td>48,390</td>\n",
       "      <td>14,923</td>\n",
       "    </tr>\n",
       "    <tr>\n",
       "      <th>4</th>\n",
       "      <td>Tesla</td>\n",
       "      <td>96,773</td>\n",
       "      <td>2023</td>\n",
       "      <td>14,974</td>\n",
       "      <td>106,618</td>\n",
       "      <td>43,009</td>\n",
       "      <td>13,256</td>\n",
       "    </tr>\n",
       "    <tr>\n",
       "      <th>5</th>\n",
       "      <td>Tesla</td>\n",
       "      <td>81,462</td>\n",
       "      <td>2022</td>\n",
       "      <td>12,587</td>\n",
       "      <td>82,338</td>\n",
       "      <td>36,440</td>\n",
       "      <td>14,724</td>\n",
       "    </tr>\n",
       "  </tbody>\n",
       "</table>\n",
       "</div>"
      ],
      "text/plain": [
       "  CompanyName Total_Revenue  Years Net_Income Total_assets Total_Libilities  \\\n",
       "0   Microsoft        245122   2024      88136       512163           243686   \n",
       "1   Microsoft        211915   2023      72316       411976           205753   \n",
       "2   Microsoft        198270   2022      72738       364840           198298   \n",
       "3       Tesla        97,690   2024      7,153      122,070           48,390   \n",
       "4       Tesla        96,773   2023     14,974      106,618           43,009   \n",
       "5       Tesla        81,462   2022     12,587       82,338           36,440   \n",
       "\n",
       "  Cash_flow_opera  \n",
       "0          118548  \n",
       "1           87582  \n",
       "2           89035  \n",
       "3          14,923  \n",
       "4          13,256  \n",
       "5          14,724  "
      ]
     },
     "execution_count": 3,
     "metadata": {},
     "output_type": "execute_result"
    }
   ],
   "source": [
    "df.head(7)"
   ]
  },
  {
   "cell_type": "code",
   "execution_count": 4,
   "id": "69ee427c-6d38-418a-ae02-210ba9969b07",
   "metadata": {},
   "outputs": [],
   "source": [
    "cols=['Total_Revenue', 'Net_Income', 'Total_assets', 'Total_Libilities', 'Cash_flow_opera']\n",
    "for numCol in cols:\n",
    "    df[numCol] = df[numCol].astype(str).str.replace(\",\",\"\")\n",
    "    df[numCol] = pd.to_numeric(df[numCol],errors='coerce')\n",
    "    "
   ]
  },
  {
   "cell_type": "code",
   "execution_count": 5,
   "id": "e64f1f5b-87b6-41e2-adcd-36ef99f283cd",
   "metadata": {},
   "outputs": [],
   "source": [
    "def AiChatboat(Query):\n",
    "    Query = Query.lower()\n",
    "\n",
    "    if \"total revenue\" in Query:\n",
    "        if 'tesla' in Query and '2024' in Query:\n",
    "            value = df[(df['CompanyName'] == 'Tesla') & (df['Years'] == 2024)]['Total_Revenue'].values\n",
    "            return f\"The Tesla's Total Revenue in 2024 was: ${value[0]:,.0f} Million\" if len(value) else 'Data not found.'\n",
    "        elif 'microsoft' in Query and '2024' in Query:\n",
    "            value = df[(df['CompanyName'] == 'Microsoft') & (df['Years'] == 2024)]['Total_Revenue'].values\n",
    "            return f\"The Microsoft's Total Revenue in 2024 was: ${value[0]:,.0f} Million\" if len(value) else 'Data not found.'\n",
    "\n",
    "    elif \"net income\" in Query:\n",
    "        if \"tesla\" in Query and \"change\" in Query and \"2023\" in Query and \"2024\" in Query:\n",
    "            val_23 = df[(df['CompanyName'] == 'Tesla') & (df['Years'] == 2023)]['Net_Income'].values\n",
    "            val_24 = df[(df['CompanyName'] == 'Tesla') & (df['Years'] == 2024)]['Net_Income'].values\n",
    "            if len(val_23) and len(val_24):\n",
    "                change = val_24[0] - val_23[0]\n",
    "                return f\"Tesla's net income changed by ${change:,.0f} million from 2023 to 2024.\"\n",
    "            else:\n",
    "                return \"Net income data for Tesla in 2023 or 2024 is missing.\"\n",
    "\n",
    "        elif \"tesla\" in Query and \"2023\" in Query:\n",
    "            val = df[(df['CompanyName'] == 'Tesla') & (df['Years'] == 2023)]['Net_Income'].values\n",
    "            return f\"The net income of Tesla in 2023 was ${val[0]:,.0f} Million\" if len(val) else \"Data not found.\"\n",
    "\n",
    "        elif \"tesla\" in Query and \"2024\" in Query:\n",
    "            val = df[(df['CompanyName'] == 'Tesla') & (df['Years'] == 2024)]['Net_Income'].values\n",
    "            return f\"The net income of Tesla in 2024 was ${val[0]:,.0f} Million\" if len(val) else \"Data not found.\"\n",
    "\n",
    "        elif \"microsoft\" in Query and \"change\" in Query and \"2023\" in Query and \"2024\" in Query:\n",
    "            val_23 = df[(df['CompanyName'] == 'Microsoft') & (df['Years'] == 2023)]['Net_Income'].values\n",
    "            val_24 = df[(df['CompanyName'] == 'Microsoft') & (df['Years'] == 2024)]['Net_Income'].values\n",
    "            if len(val_23) and len(val_24):\n",
    "                change = val_24[0] - val_23[0]\n",
    "                return f\"Microsoft's net income changed by ${change:,.0f} million from 2023 to 2024.\"\n",
    "            else:\n",
    "                return \"Net income data for Microsoft in 2023 or 2024 is missing.\"\n",
    "\n",
    "        elif \"microsoft\" in Query and \"2023\" in Query:\n",
    "            val = df[(df['CompanyName'] == 'Microsoft') & (df['Years'] == 2023)]['Net_Income'].values\n",
    "            return f\"The net income of Microsoft in 2023 was ${val[0]:,.0f} Million\" if len(val) else \"Data not found.\"\n",
    "\n",
    "        elif \"microsoft\" in Query and \"2024\" in Query:\n",
    "            val = df[(df['CompanyName'] == 'Microsoft') & (df['Years'] == 2024)]['Net_Income'].values\n",
    "            return f\"The net income of Microsoft in 2024 was ${val[0]:,.0f} Million\" if len(val) else \"Data not found.\"\n",
    "\n",
    "    return \"Sorry, I can only answer a few predefined financial questions.\"\n",
    "\n",
    "    "
   ]
  },
  {
   "cell_type": "code",
   "execution_count": 9,
   "id": "8859c32e-6581-4ecd-a0ce-8c2e86bd74ef",
   "metadata": {},
   "outputs": [
    {
     "name": "stdin",
     "output_type": "stream",
     "text": [
      "Ask the question for Finantial statements about Microsoft and Tesla or write (exit) for stop response :  what is the net income of microsoft in 2023 and change in 2024\n"
     ]
    },
    {
     "name": "stdout",
     "output_type": "stream",
     "text": [
      "\n",
      "\n",
      "Microsoft's net income changed by $15,820 million from 2023 to 2024.\n"
     ]
    },
    {
     "name": "stdin",
     "output_type": "stream",
     "text": [
      "Ask the question for Finantial statements about Microsoft and Tesla or write (exit) for stop response :  exit\n"
     ]
    },
    {
     "name": "stdout",
     "output_type": "stream",
     "text": [
      "\n",
      "\n"
     ]
    }
   ],
   "source": [
    "while True:\n",
    "    Question = input(\"Ask the question for Finantial statements about Microsoft and Tesla or write (exit) for stop response : \")\n",
    "    print('\\n')\n",
    "    if Question.lower() == 'exit':\n",
    "        break\n",
    "    print(AiChatboat(Question))\n",
    "\n",
    "# print(AiChatboat(\"What is Tesla total revenue in 2024?\"))"
   ]
  }
 ],
 "metadata": {
  "kernelspec": {
   "display_name": "Python 3 (ipykernel)",
   "language": "python",
   "name": "python3"
  },
  "language_info": {
   "codemirror_mode": {
    "name": "ipython",
    "version": 3
   },
   "file_extension": ".py",
   "mimetype": "text/x-python",
   "name": "python",
   "nbconvert_exporter": "python",
   "pygments_lexer": "ipython3",
   "version": "3.12.0"
  }
 },
 "nbformat": 4,
 "nbformat_minor": 5
}
